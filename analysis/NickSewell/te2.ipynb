{
 "cells": [
  {
   "cell_type": "markdown",
   "id": "a4392c23",
   "metadata": {},
   "source": [
    "![Ubco Logo](UBCOLOGO.png)\n",
    "# ENGR 491 : Theory Exercise 2\n",
    "## Nicholas Sewell - 89173397\n",
    "### Oct 7th 2021\n",
    "---"
   ]
  },
  {
   "cell_type": "markdown",
   "id": "e3e14111",
   "metadata": {},
   "source": [
    "By translating my student number to be the boundary conditions around the 2d plate, I have the following:\n",
    "\n",
    "89 deg along left side\n",
    "\n",
    "17 deg along top side\n",
    "\n",
    "33 deg along the right side\n",
    "\n",
    "97 deg along the bottom side\n",
    "\n",
    "This temperature distribution will be done across a plate, governed by the elliptic equation\n",
    "\n",
    "$$ \\dfrac{\\partial^2 T}{\\partial x^2} + \\dfrac{\\partial^2 T}{\\partial y^2} = 0 $$"
   ]
  },
  {
   "cell_type": "markdown",
   "id": "fb036076",
   "metadata": {},
   "source": [
    "The following is Python 3 code, written within this Jupyter Notebook. <br>\n",
    "Code explanations will be within each block as code comments\n",
    "\n",
    "---\n",
    "\n",
    "### Initiate Variables and Initial Conditions"
   ]
  },
  {
   "cell_type": "code",
   "execution_count": 1,
   "id": "2f9eaa47",
   "metadata": {},
   "outputs": [],
   "source": [
    "#Importing working libraries\n",
    "\n",
    "import numpy as np\n",
    "import matplotlib.pyplot as plt\n",
    "from tabulate import tabulate"
   ]
  },
  {
   "cell_type": "markdown",
   "id": "45a27836",
   "metadata": {},
   "source": [
    "Define grid & iterations:"
   ]
  },
  {
   "cell_type": "code",
   "execution_count": 2,
   "id": "f492c512",
   "metadata": {},
   "outputs": [],
   "source": [
    "#Boundary Conditions\n",
    "AB = 89\n",
    "CD = 17\n",
    "EF = 33\n",
    "GH = 97\n",
    "\n",
    "#Grid properties and Variables\n",
    "xlen = 5\n",
    "ylen = 4\n",
    "dx = 0.05\n",
    "dy = 0.05\n",
    "nx = int(xlen/dx +1)\n",
    "ny = int(ylen/dy +1)\n",
    "beta = dx/dy\n",
    "\n",
    "#This variable is for PSOR, and will be changed \n",
    "omega = 1.5\n",
    "\n",
    "#Max number of interations\n",
    "max_i = 5000\n",
    "\n",
    "#Residual Endpoint\n",
    "e_max = 0.01"
   ]
  },
  {
   "cell_type": "code",
   "execution_count": 3,
   "id": "a4f5dd7e",
   "metadata": {},
   "outputs": [],
   "source": [
    "#Mesh Array\n",
    "\n",
    "x = np.linspace(0,xlen,nx)\n",
    "y = np.linspace(0,ylen,ny)\n",
    "\n",
    "#Initiate IC's\n",
    "T1 = np.zeros((nx,ny))\n",
    "T2 = np.zeros((nx,ny))\n",
    "T3 = np.zeros((nx,ny))"
   ]
  },
  {
   "cell_type": "code",
   "execution_count": 4,
   "id": "654257f5",
   "metadata": {},
   "outputs": [],
   "source": [
    "#Assign Boundary Conditions\n",
    "for i in range(1,nx-1):\n",
    "    T1[i,0] = GH      # lower wall = 97C\n",
    "    T1[i,ny-1] = CD    # upper wall = 17C\n",
    "    T2[i,0] = GH      # lower wall = 97C\n",
    "    T2[i,ny-1] = CD    # upper wall = 17C\n",
    "    T3[i,0] = GH      # lower wall = 97C\n",
    "    T3[i,ny-1] = CD    # upper wall = 17C\n",
    "for i in range(ny-1):\n",
    "    T1[0,i] = AB      # left wall = 89C\n",
    "    T1[nx-1,i] = EF   # right wall = 33C\n",
    "    T2[0,i] = AB      # left wall = 89C\n",
    "    T2[nx-1,i] = EF   # right wall = 33C\n",
    "    T3[0,i] = AB      # left wall = 89C\n",
    "    T3[nx-1,i] = EF   # right wall = 33C"
   ]
  },
  {
   "cell_type": "code",
   "execution_count": 5,
   "id": "6501ff2f",
   "metadata": {},
   "outputs": [],
   "source": [
    "# This were done multiple times to allow storage of each method to be saved independently\n",
    "# 1 = Point Jacobi Method (PJM)\n",
    "# 2 = Point Gauss Seidel (PGS)\n",
    "# 3 = Point Successive Over-Relaxation (PSOR)\n",
    "\n",
    "Tkp1 = np.copy(T1)\n",
    "Tkp2 = np.copy(T2)\n",
    "Tkp3 = np.copy(T3)\n",
    "eps1 = []\n",
    "eps2 = []\n",
    "eps3 = []\n"
   ]
  },
  {
   "cell_type": "markdown",
   "id": "50684b50",
   "metadata": {},
   "source": [
    "---\n",
    "\n",
    "### Start of Numerical Method Simulations\n",
    "Each of the methods will be ran here\n",
    "#### Point Jacobi Method"
   ]
  },
  {
   "cell_type": "code",
   "execution_count": 6,
   "id": "293a2718",
   "metadata": {},
   "outputs": [
    {
     "name": "stdout",
     "output_type": "stream",
     "text": [
      "0 | 46.5\n",
      "100 | 0.3329309298873824\n",
      "200 | 0.16665039266396775\n",
      "300 | 0.11127444830829347\n",
      "400 | 0.08359102805196983\n",
      "500 | 0.0669288311305678\n",
      "600 | 0.055843321551591885\n",
      "700 | 0.04796869303362428\n",
      "800 | 0.04214170976622711\n",
      "900 | 0.03766449256341531\n",
      "1000 | 0.03409768692858961\n",
      "1100 | 0.03120429687101023\n",
      "1200 | 0.028770702085466837\n",
      "1300 | 0.026711197218411087\n",
      "1400 | 0.024892922997551636\n",
      "1500 | 0.02328374799844113\n",
      "1600 | 0.021815811299219945\n",
      "1700 | 0.020457698816557013\n",
      "1800 | 0.01920249392713913\n",
      "1900 | 0.018031834718044593\n",
      "2000 | 0.016933585908432747\n",
      "2100 | 0.015898949615191782\n",
      "2200 | 0.014930160132770709\n",
      "2300 | 0.014018641097763407\n",
      "2400 | 0.013158416244401394\n",
      "2500 | 0.01235669134662487\n",
      "2600 | 0.011600600071417944\n",
      "2700 | 0.010888544992681659\n",
      "2800 | 0.010220671230172229\n",
      "Residual threshold reached in 2835 iterations\n"
     ]
    }
   ],
   "source": [
    "for k1 in range(max_i):\n",
    "    for i in range(1,nx-1):\n",
    "        for j in range(1,ny-1):\n",
    "            \n",
    "            # Point Jacobi method\n",
    "            Tkp1[i,j] = 0.5/(1.0+beta**2) * (T1[i+1,j] + T1[i-1,j]) + \n",
    "                        (0.5*beta**2)/(1.0+beta**2) * (T1[i,j+1]+T1[i,j-1])\n",
    "\n",
    "    # Define residual error as the maximum absolute difference between subsequent iterates            \n",
    "    eps1 = np.append(eps1,np.amax(np.absolute(np.subtract(Tkp1,T1))))\n",
    "    \n",
    "    # Copy new temperature field to old temperature array\n",
    "    T1 = np.copy(Tkp1)\n",
    "    \n",
    "    # Print the iteration number and residual to standard output every 25 iterations\n",
    "    if (k1 % 100) == 0:\n",
    "        print(k1,'|', eps1[k1])\n",
    "    \n",
    "    # Test to see if residual error is below threshold; break if yes\n",
    "    if eps1[k1] < e_max:\n",
    "        print('Residual threshold reached in', k1, 'iterations')\n",
    "        break"
   ]
  },
  {
   "cell_type": "markdown",
   "id": "526452dd",
   "metadata": {},
   "source": [
    "#### Point Gauss-Seidel Method"
   ]
  },
  {
   "cell_type": "code",
   "execution_count": 7,
   "id": "83850008",
   "metadata": {},
   "outputs": [
    {
     "name": "stdout",
     "output_type": "stream",
     "text": [
      "0 | 46.5\n",
      "100 | 0.3131096449611874\n",
      "200 | 0.15961268095448133\n",
      "300 | 0.1074481128730227\n",
      "400 | 0.08145582519166084\n",
      "500 | 0.06608501840982228\n",
      "600 | 0.0559458598564575\n",
      "700 | 0.048592208080876276\n",
      "800 | 0.0427210435041232\n",
      "900 | 0.03771033182508887\n",
      "1000 | 0.03330243243865283\n",
      "1100 | 0.029389280840980803\n",
      "1200 | 0.02592407268765129\n",
      "1300 | 0.02285498811471598\n",
      "1400 | 0.020146200693275773\n",
      "1500 | 0.01775116175758029\n",
      "1600 | 0.015640138562446282\n",
      "1700 | 0.013782531151527166\n",
      "1800 | 0.012143757388706433\n",
      "1900 | 0.010699014590684897\n",
      "Residual threshold reached in 1954 iterations\n"
     ]
    }
   ],
   "source": [
    "for k2 in range(max_i):\n",
    "    for i in range(1,nx-1):\n",
    "        for j in range(1,ny-1):\n",
    "            \n",
    "            # Point Gauss-Seidel method\n",
    "            Tkp2[i,j] = 0.5/(1.0+beta**2) * (T2[i+1,j] + Tkp2[i-1,j]) + \n",
    "                        (0.5*beta**2)/(1.0+beta**2)* (T2[i,j+1]+Tkp2[i,j-1])\n",
    "\n",
    "    # Define residual error as the maximum absolute difference between subsequent iterates            \n",
    "\n",
    "    eps2 = np.append(eps2,np.amax(np.absolute(np.subtract(Tkp2,T2))))\n",
    "\n",
    "    # Copy new temperature field to old temperature array\n",
    "\n",
    "    T2 = np.copy(Tkp2)\n",
    "\n",
    "    # Print the iteration number and residual to standard output every 25 iterations\n",
    "    if (k2 % 100) == 0:\n",
    "        print(k2,'|', eps2[k2])\n",
    "    \n",
    "    # Test to see if residual error is below threshold; break if yes\n",
    "    if eps2[k2] < e_max:\n",
    "        print('Residual threshold reached in', k2, 'iterations')\n",
    "        break"
   ]
  },
  {
   "cell_type": "markdown",
   "id": "d91e8882",
   "metadata": {},
   "source": [
    "#### Point Successive Over-Relaxation"
   ]
  },
  {
   "cell_type": "code",
   "execution_count": 8,
   "id": "7584382a",
   "metadata": {},
   "outputs": [
    {
     "name": "stdout",
     "output_type": "stream",
     "text": [
      "0 | 70.575\n",
      "100 | 0.29980572470717703\n",
      "200 | 0.15882511820722556\n",
      "300 | 0.10931730719666177\n",
      "400 | 0.07561308796244504\n",
      "500 | 0.051805900473887334\n",
      "600 | 0.035405589955409766\n",
      "700 | 0.024187859506909604\n",
      "800 | 0.016529565070761976\n",
      "900 | 0.011296679850850921\n",
      "Residual threshold reached in 933 iterations\n"
     ]
    }
   ],
   "source": [
    "for k3 in range(max_i):\n",
    "    for i in range(1,nx-1):\n",
    "        for j in range(1,ny-1):\n",
    "            \n",
    "            # Point Successive Over-relaxation\n",
    "            Tkp3[i,j] = omega*0.5/(1.0+beta**2) * (T3[i+1,j] + Tkp3[i-1,j]) + (omega*0.5*beta**2)/\n",
    "                        (1.0+beta**2) * (T3[i,j+1]+Tkp3[i,j-1]) + (1-omega)*T3[i,j]\n",
    "\n",
    "    # Define residual error as the maximum absolute difference between subsequent iterates            \n",
    "\n",
    "    eps3 = np.append(eps3,np.amax(np.absolute(np.subtract(Tkp3,T3))))\n",
    "\n",
    "    # Copy new temperature field to old temperature array\n",
    "\n",
    "    T3 = np.copy(Tkp3)\n",
    "    \n",
    "    # Print the iteration number and residual to standard output every 25 iterations\n",
    "    if (k3 % 100) == 0:\n",
    "        print(k3,'|', eps3[k3])\n",
    "    \n",
    "    # Test to see if residual error is below threshold; break if yes\n",
    "    if eps3[k3] < e_max:\n",
    "        print('Residual threshold reached in', k3, 'iterations')\n",
    "        break"
   ]
  },
  {
   "cell_type": "markdown",
   "id": "5e9ffe69",
   "metadata": {},
   "source": [
    "Simulations are complete, and data has been stored is k1,k2,k3 and T1,T2,T3.\n",
    "\n",
    "---\n",
    "\n",
    "### Data Visualization\n",
    "\n",
    "Each methods solution is graphed on a contour plot to ensure they all arrived at the same solution."
   ]
  },
  {
   "cell_type": "code",
   "execution_count": 9,
   "id": "7ece2dfb",
   "metadata": {},
   "outputs": [
    {
     "data": {
      "image/png": "[encoded data removed]",
      "text/plain": [
       "<Figure size 432x288 with 2 Axes>"
      ]
     },
     "metadata": {
      "needs_background": "light"
     },
     "output_type": "display_data"
    },
    {
     "data": {
      "image/png": "[encoded data removed]",
      "text/plain": [
       "<Figure size 432x288 with 2 Axes>"
      ]
     },
     "metadata": {
      "needs_background": "light"
     },
     "output_type": "display_data"
    },
    {
     "data": {
      "image/png": "[encoded data removed]",
      "text/plain": [
       "<Figure size 432x288 with 2 Axes>"
      ]
     },
     "metadata": {
      "needs_background": "light"
     },
     "output_type": "display_data"
    }
   ],
   "source": [
    "# These are meshgrids with a coloured contour overlap\n",
    "# This one is for PJM\n",
    "X, Y = np.meshgrid(x,y,indexing='ij')\n",
    "plt.contourf(X,Y,T1,25,cmap='RdBu_r')\n",
    "cbar=plt.colorbar()\n",
    "cbar.ax.set_ylabel('T ($^{\\circ}$C)')\n",
    "plt.xlabel('x')\n",
    "plt.ylabel('y')\n",
    "plt.title('Point Jacobi Method')\n",
    "plt.show()\n",
    "\n",
    "# This one is for PGSM\n",
    "X, Y = np.meshgrid(x,y,indexing='ij')\n",
    "plt.contourf(X,Y,T2,25,cmap='RdBu_r')\n",
    "cbar=plt.colorbar()\n",
    "cbar.ax.set_ylabel('T ($^{\\circ}$C)')\n",
    "plt.xlabel('x')\n",
    "plt.ylabel('y')\n",
    "plt.title('Point Gauss-Seidel Method')\n",
    "plt.show()\n",
    "\n",
    "# This one is for PSOR\n",
    "X, Y = np.meshgrid(x,y,indexing='ij')\n",
    "plt.contourf(X,Y,T3,25,cmap='RdBu_r')\n",
    "cbar=plt.colorbar()\n",
    "cbar.ax.set_ylabel('T ($^{\\circ}$C)')\n",
    "plt.xlabel('x')\n",
    "plt.ylabel('y')\n",
    "plt.title('Point Successive Over-Relaxation')\n",
    "plt.show()"
   ]
  },
  {
   "cell_type": "markdown",
   "id": "20cb2179",
   "metadata": {},
   "source": [
    "It appears all three methods arrived at a nearly identical solution, with only minor visual deviations. \n",
    "\n",
    "---\n",
    "\n",
    "The following graph plots the decline of the solutions residuals against the number of iterations.<br>\n",
    "It easily illustrates the effectiveness of point succession over-relaxation, as it took less than half the steps."
   ]
  },
  {
   "cell_type": "code",
   "execution_count": 10,
   "id": "4ef844ed",
   "metadata": {},
   "outputs": [
    {
     "data": {
      "image/png": "[encoded data removed]",
      "text/plain": [
       "<Figure size 432x288 with 1 Axes>"
      ]
     },
     "metadata": {
      "needs_background": "light"
     },
     "output_type": "display_data"
    }
   ],
   "source": [
    "# Plots three seperate lines for each method\n",
    "plt.plot(np.linspace(0,k3,k3+1),eps3,label='PSOR')\n",
    "plt.plot(np.linspace(0,k2,k2+1),eps2,label='PGSM')\n",
    "plt.plot(np.linspace(0,k1,k1+1),eps1,label='PJM')\n",
    "# Converts error to a log scale\n",
    "plt.yscale('log')\n",
    "plt.xlabel('Iteration')\n",
    "plt.ylabel('$\\epsilon$')\n",
    "plt.title('Comparison of Method by # of Iterations')\n",
    "plt.legend()\n",
    "plt.show()"
   ]
  },
  {
   "cell_type": "code",
   "execution_count": 11,
   "id": "290ecfb3",
   "metadata": {},
   "outputs": [
    {
     "name": "stdout",
     "output_type": "stream",
     "text": [
      "╒══════════════════════════════════╤══════════════╕\n",
      "│ Method                           │   Iterations │\n",
      "╞══════════════════════════════════╪══════════════╡\n",
      "│ Point Jacobi Method              │         2835 │\n",
      "├──────────────────────────────────┼──────────────┤\n",
      "│ Point Gauss-Seidel Method        │         1954 │\n",
      "├──────────────────────────────────┼──────────────┤\n",
      "│ Point Successive Over-Relaxation │          933 │\n",
      "╘══════════════════════════════════╧══════════════╛\n"
     ]
    }
   ],
   "source": [
    "# Creates a dictionary to be tableized \n",
    "table = [['Method','Iterations'],['Point Jacobi Method',k1],\n",
    "         ['Point Gauss-Seidel Method',k2],\n",
    "         ['Point Successive Over-Relaxation',k3]]\n",
    "print(tabulate(table, headers='firstrow', tablefmt='fancy_grid'))"
   ]
  },
  {
   "cell_type": "markdown",
   "id": "87df08f2",
   "metadata": {},
   "source": [
    "---\n",
    "\n",
    "### Results & Discussion\n",
    "\n",
    "**- Comparing Effiencies of each method <br>**\n",
    "\n",
    "By judging the methods residual plot repeated below, it is clear that Point Successive Over-relation is the most efficient compared to the other methods.<br>\n",
    "PSOR has only 933 iterations, while the others had 1954 and 2835."
   ]
  },
  {
   "cell_type": "markdown",
   "id": "fa90f21f",
   "metadata": {},
   "source": [
    "![Comparison Graph](compare3.png \"Graph\")"
   ]
  },
  {
   "cell_type": "markdown",
   "id": "118ca74e",
   "metadata": {},
   "source": [
    "**- Determine Optimal value of omega in PSOR <br>**\n",
    "\n",
    "In order to accurately determine this, the method was performed multple times below, but was determined that the most optimum value for omega was 1.78.<br>\n",
    "Changing the omega from the initial value of 1.5 to 1.78 resulted in only 434 iterations, a 53% difference. "
   ]
  },
  {
   "cell_type": "code",
   "execution_count": 12,
   "id": "f78f233e",
   "metadata": {},
   "outputs": [
    {
     "name": "stdout",
     "output_type": "stream",
     "text": [
      "0 | 92.45977477477479\n",
      "100 | 0.301173055407979\n",
      "200 | 0.11368341611400723\n",
      "300 | 0.04016920735893592\n",
      "400 | 0.014141311424218372\n",
      "Residual threshold reached in 434 iterations\n"
     ]
    }
   ],
   "source": [
    "# Setting omega to find optimum value\n",
    "omega = 1.78\n",
    "\n",
    "# All the following is a repeat of previous steps, just done again for a fourth solution.\n",
    "\n",
    "T4 = np.zeros((nx,ny))\n",
    "for i in range(1,nx-1):\n",
    "    T4[i,0] = GH      # lower wall = 97C\n",
    "    T4[i,ny-1] = CD    # upper wall = 17C\n",
    "for i in range(ny-1):\n",
    "    T4[0,i] = AB      # left wall = 89C\n",
    "    T4[nx-1,i] = EF   # right wall = 33C\n",
    "Tkp4 = np.copy(T4)\n",
    "eps4 = []\n",
    "for k4 in range(max_i):\n",
    "    for i in range(1,nx-1):\n",
    "        for j in range(1,ny-1):\n",
    "            \n",
    "            # Point Successive Over-relaxation\n",
    "            Tkp4[i,j] = omega*0.5/(1.0+beta**2) * (T4[i+1,j] + Tkp4[i-1,j]) + (omega*0.5*beta**2)/\n",
    "                        (1.0+beta**2) * (T4[i,j+1]+Tkp4[i,j-1]) + (1-omega)*T4[i,j]\n",
    "\n",
    "    # Define residual error as the maximum absolute difference between subsequent iterates            \n",
    "\n",
    "    eps4 = np.append(eps4,np.amax(np.absolute(np.subtract(Tkp4,T4))))\n",
    "\n",
    "    # Copy new temperature field to old temperature array\n",
    "\n",
    "    T4 = np.copy(Tkp4)\n",
    "    \n",
    "    # Print the iteration number and residual to standard output every 25 iterations\n",
    "    if (k4 % 100) == 0:\n",
    "        print(k4,'|', eps4[k4])\n",
    "    \n",
    "    # Test to see if residual error is below threshold; break if yes\n",
    "    if eps4[k4] < e_max:\n",
    "        print('Residual threshold reached in', k4, 'iterations')\n",
    "        break"
   ]
  },
  {
   "cell_type": "markdown",
   "id": "c8eca004",
   "metadata": {},
   "source": [
    "- **Determine the influence of the following parameters on the computational cost of PSOR**<br>\n",
    "    - **The convergence criteria**<br>\n",
    "    The convergence criteria ($\\epsilon$), is the stopping point of the simulation. This value can be infinite, is it is the error between the exact and approximate solution.<br>\n",
    "    Though to reach a solution, some value needs to be set. Best practice is to find a value that converges to a solution that doesnt change with more iterations. \n",
    "    This can be seen on the already plotted residual plot. Each method has a different decay of $\\epsilon$ after a certain point, from there its a linear function of computational power. Therefore if your solution is harder to converge upon, methods like PSOR are much more efficent on computational power to converge.\n",
    "    - **The grid size**<br>\n",
    "By changing the grid size of the mesh, you increase or decrease the amount of equations needed for one iteration. Below are two more simulations with a grid with spacings of 0.1 and 0.01 respectively. These simulations took 136 and 3253 iterations. What cannot be seen though, is the amount of time it took for each iteration. The dx of 0.1 grid took less than a minute, whereas the 0.01 grid took over 45 minutes to complete. That shows that an excessive grid size is a huge hit to computational power, is also lends to the importance of mesh independence to ensure you are converging on the proper solution without wasting computational power"
   ]
  },
  {
   "cell_type": "code",
   "execution_count": 13,
   "id": "67fda12a",
   "metadata": {},
   "outputs": [
    {
     "name": "stdout",
     "output_type": "stream",
     "text": [
      "0 | 92.45977477477479\n",
      "100 | 0.048285757224562076\n",
      "Residual threshold reached in 136 iterations\n"
     ]
    }
   ],
   "source": [
    "dx = 0.1\n",
    "dy = 0.1\n",
    "nx = int(xlen/dx +1)\n",
    "ny = int(ylen/dy +1)\n",
    "beta = dx/dy\n",
    "x = np.linspace(0,xlen,nx)\n",
    "y = np.linspace(0,ylen,ny)\n",
    "\n",
    "T5= np.zeros((nx,ny))\n",
    "for i in range(1,nx-1):\n",
    "    T5[i,0] = GH      # lower wall = 97C\n",
    "    T5[i,ny-1] = CD    # upper wall = 17C\n",
    "for i in range(ny-1):\n",
    "    T5[0,i] = AB      # left wall = 89C\n",
    "    T5[nx-1,i] = EF   # right wall = 33C\n",
    "Tkp5 = np.copy(T5)\n",
    "eps5 = []\n",
    "for k5 in range(max_i):\n",
    "    for i in range(1,nx-1):\n",
    "        for j in range(1,ny-1):\n",
    "            \n",
    "            # Point Successive Over-relaxation\n",
    "            Tkp5[i,j] = omega*0.5/(1.0+beta**2) * (T5[i+1,j] + Tkp5[i-1,j]) + (omega*0.5*beta**2)/\n",
    "                        (1.0+beta**2) * (T5[i,j+1]+Tkp5[i,j-1]) + (1-omega)*T5[i,j]\n",
    "\n",
    "    # Define residual error as the maximum absolute difference between subsequent iterates            \n",
    "\n",
    "    eps5 = np.append(eps5,np.amax(np.absolute(np.subtract(Tkp5,T5))))\n",
    "\n",
    "    # Copy new temperature field to old temperature array\n",
    "\n",
    "    T5 = np.copy(Tkp5)\n",
    "    \n",
    "    # Print the iteration number and residual to standard output every 25 iterations\n",
    "    if (k5 % 100) == 0:\n",
    "        print(k5,'|', eps5[k5])\n",
    "    \n",
    "    # Test to see if residual error is below threshold; break if yes\n",
    "    if eps5[k5] < e_max:\n",
    "        print('Residual threshold reached in', k5, 'iterations')\n",
    "        break"
   ]
  },
  {
   "cell_type": "code",
   "execution_count": 14,
   "id": "8b50ad13",
   "metadata": {},
   "outputs": [
    {
     "name": "stdout",
     "output_type": "stream",
     "text": [
      "0 | 92.45977477477479\n",
      "100 | 0.2815998274332472\n",
      "200 | 0.1475881370255152\n",
      "300 | 0.10055363135079887\n",
      "400 | 0.07641935550284984\n",
      "500 | 0.06170008555645268\n",
      "600 | 0.05177092573445208\n",
      "700 | 0.0446143106348984\n",
      "800 | 0.039210705896628895\n",
      "900 | 0.034991246831069134\n",
      "1000 | 0.03161178156017286\n",
      "1100 | 0.028850799833335827\n",
      "1200 | 0.026558474697083057\n",
      "1300 | 0.02462846173430222\n",
      "1400 | 0.022982958993544855\n",
      "1500 | 0.02156461620226935\n",
      "1600 | 0.020329260691731577\n",
      "1700 | 0.019243197578489912\n",
      "1800 | 0.018279334804411462\n",
      "1900 | 0.01741574395209966\n",
      "2000 | 0.016634245925587265\n",
      "2100 | 0.0159194950721826\n",
      "2200 | 0.01525872635646408\n",
      "2300 | 0.014641308807355813\n",
      "2400 | 0.014059123431579224\n",
      "2500 | 0.013506101168076157\n",
      "2600 | 0.01297794382215045\n",
      "2700 | 0.012471728935423698\n",
      "2800 | 0.011985260110613183\n",
      "2900 | 0.011517063284628648\n",
      "3000 | 0.011066313004285178\n",
      "3100 | 0.010632046128769446\n",
      "3200 | 0.010213818378176143\n",
      "Residual threshold reached in 3253 iterations\n"
     ]
    }
   ],
   "source": [
    "dx = 0.01\n",
    "dy = 0.01\n",
    "nx = int(xlen/dx +1)\n",
    "ny = int(ylen/dy +1)\n",
    "beta = dx/dy\n",
    "x = np.linspace(0,xlen,nx)\n",
    "y = np.linspace(0,ylen,ny)\n",
    "\n",
    "T6= np.zeros((nx,ny))\n",
    "for i in range(1,nx-1):\n",
    "    T6[i,0] = GH      # lower wall = 97C\n",
    "    T6[i,ny-1] = CD    # upper wall = 17C\n",
    "for i in range(ny-1):\n",
    "    T6[0,i] = AB      # left wall = 89C\n",
    "    T6[nx-1,i] = EF   # right wall = 33C\n",
    "Tkp6 = np.copy(T6)\n",
    "eps6 = []\n",
    "for k6 in range(max_i):\n",
    "    for i in range(1,nx-1):\n",
    "        for j in range(1,ny-1):\n",
    "            \n",
    "            # Point Successive Over-relaxation\n",
    "            Tkp6[i,j] = omega*0.5/(1.0+beta**2) * (T6[i+1,j] + Tkp6[i-1,j]) + (omega*0.5*beta**2)/\n",
    "                        (1.0+beta**2) * (T6[i,j+1]+Tkp6[i,j-1]) + (1-omega)*T6[i,j]\n",
    "\n",
    "    # Define residual error as the maximum absolute difference between subsequent iterates            \n",
    "\n",
    "    eps6 = np.append(eps6,np.amax(np.absolute(np.subtract(Tkp6,T6))))\n",
    "\n",
    "    # Copy new temperature field to old temperature array\n",
    "\n",
    "    T6 = np.copy(Tkp6)\n",
    "    \n",
    "    # Print the iteration number and residual to standard output every 25 iterations\n",
    "    if (k6 % 100) == 0:\n",
    "        print(k6,'|', eps6[k6])\n",
    "    \n",
    "    # Test to see if residual error is below threshold; break if yes\n",
    "    if eps6[k6] < e_max:\n",
    "        print('Residual threshold reached in', k6, 'iterations')\n",
    "        break"
   ]
  },
  {
   "cell_type": "markdown",
   "id": "a9135cbf",
   "metadata": {},
   "source": [
    "- **The cell aspect ratio**<br>\n",
    "All the simulations performed above were done with cell ratios of 5 (dx/dy). Below is the PSOR simulation with omega of 1.78 which yielded only 434 iterations, but with a cell aspect ratio of 5. Multiple runs were done to gauge the effect on computational power, and it works much like grid size. Since this solution is found by solving each individual cell or point, the computational power is greatly dependent on how many cells the equation needs to be solved for. This is obviously for a square container, and a mesh over a more complicated object may require a cell aspect ratio that fits its need better. For instance the boundary layer across a car, where the most important data is along only one surface. "
   ]
  },
  {
   "cell_type": "code",
   "execution_count": 15,
   "id": "ba28d967",
   "metadata": {},
   "outputs": [
    {
     "name": "stdout",
     "output_type": "stream",
     "text": [
      "0 | 87.08142741169623\n",
      "100 | 0.2885780684212733\n",
      "200 | 0.15026922310816104\n",
      "300 | 0.10205851243722464\n",
      "400 | 0.0774053540040569\n",
      "500 | 0.06244204404205789\n",
      "600 | 0.052463101765354736\n",
      "700 | 0.0454298058005449\n",
      "800 | 0.04023417450119382\n",
      "900 | 0.03621652160879307\n",
      "1000 | 0.03297383856818925\n",
      "1100 | 0.030269880648397418\n",
      "1200 | 0.027923674785718333\n",
      "1300 | 0.02582630477725445\n",
      "1400 | 0.023908205448009312\n",
      "1500 | 0.02213964312295502\n",
      "1600 | 0.020495339305973914\n",
      "1700 | 0.018967082286280856\n",
      "1800 | 0.01754785582419771\n",
      "1900 | 0.01622679659448778\n",
      "2000 | 0.01500520884421519\n",
      "2100 | 0.013870725378431814\n",
      "2200 | 0.012820555635578046\n",
      "2300 | 0.011849603625300631\n",
      "2400 | 0.010950748901343843\n",
      "2500 | 0.010119014618886979\n",
      "Residual threshold reached in 2515 iterations\n"
     ]
    }
   ],
   "source": [
    "dx = 0.05\n",
    "dy = 0.01\n",
    "nx = int(xlen/dx +1)\n",
    "ny = int(ylen/dy +1)\n",
    "beta = dx/dy\n",
    "x = np.linspace(0,xlen,nx)\n",
    "y = np.linspace(0,ylen,ny)\n",
    "T7= np.zeros((nx,ny))\n",
    "for i in range(1,nx-1):\n",
    "    T7[i,0] = GH      # lower wall = 97C\n",
    "    T7[i,ny-1] = CD    # upper wall = 17C\n",
    "for i in range(ny-1):\n",
    "    T7[0,i] = AB      # left wall = 89C\n",
    "    T7[nx-1,i] = EF   # right wall = 33C\n",
    "Tkp7 = np.copy(T7)\n",
    "eps7 = []\n",
    "for k7 in range(max_i):\n",
    "    for i in range(1,nx-1):\n",
    "        for j in range(1,ny-1):\n",
    "            \n",
    "            # Point Successive Over-relaxation\n",
    "            Tkp7[i,j] = omega*0.5/(1.0+beta**2) * (T7[i+1,j] + Tkp7[i-1,j]) + (omega*0.5*beta**2)/\n",
    "                        (1.0+beta**2) * (T7[i,j+1]+Tkp7[i,j-1]) + (1-omega)*T7[i,j]\n",
    "\n",
    "    # Define residual error as the maximum absolute difference between subsequent iterates            \n",
    "\n",
    "    eps7 = np.append(eps7,np.amax(np.absolute(np.subtract(Tkp7,T7))))\n",
    "\n",
    "    # Copy new temperature field to old temperature array\n",
    "\n",
    "    T7 = np.copy(Tkp7)\n",
    "    \n",
    "    # Print the iteration number and residual to standard output every 25 iterations\n",
    "    if (k7 % 100) == 0:\n",
    "        print(k7,'|', eps7[k7])\n",
    "    \n",
    "    # Test to see if residual error is below threshold; break if yes\n",
    "    if eps7[k7] < e_max:\n",
    "        print('Residual threshold reached in', k7, 'iterations')\n",
    "        break"
   ]
  },
  {
   "cell_type": "markdown",
   "id": "61326d75",
   "metadata": {},
   "source": [
    "- **Plot the contours of the converged temperature distribution**<br>\n",
    "Below are the repeated contours seen in the Data Visualization section. One contour was produced for each method."
   ]
  },
  {
   "cell_type": "markdown",
   "id": "5c3111a1",
   "metadata": {},
   "source": [
    "![Logo](graphs.png \"Residual Graphs\")"
   ]
  },
  {
   "cell_type": "code",
   "execution_count": null,
   "id": "82398540",
   "metadata": {},
   "outputs": [],
   "source": []
  }
 ],
 "metadata": {
  "kernelspec": {
   "display_name": "Python 3 (ipykernel)",
   "language": "python",
   "name": "python3"
  },
  "language_info": {
   "codemirror_mode": {
    "name": "ipython",
    "version": 3
   },
   "file_extension": ".py",
   "mimetype": "text/x-python",
   "name": "python",
   "nbconvert_exporter": "python",
   "pygments_lexer": "ipython3",
   "version": "3.9.1"
  }
 },
 "nbformat": 4,
 "nbformat_minor": 5
}
